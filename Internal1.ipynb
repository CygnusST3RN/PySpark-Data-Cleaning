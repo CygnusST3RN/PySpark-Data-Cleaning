{
 "cells": [
  {
   "cell_type": "code",
   "execution_count": 1,
   "id": "0fd98a63-bc89-401d-9361-36532e18f8f2",
   "metadata": {},
   "outputs": [],
   "source": [
    "from pyspark.sql import SparkSession\n",
    "from pyspark.sql.functions import col, sum"
   ]
  },
  {
   "cell_type": "code",
   "execution_count": 2,
   "id": "377d8547-747c-482b-94c1-93e1d80590a7",
   "metadata": {},
   "outputs": [
    {
     "name": "stderr",
     "output_type": "stream",
     "text": [
      "24/12/29 22:30:59 WARN Utils: Your hostname, arch resolves to a loopback address: 127.0.1.1; using 10.20.31.204 instead (on interface wlp5s0)\n",
      "24/12/29 22:30:59 WARN Utils: Set SPARK_LOCAL_IP if you need to bind to another address\n",
      "Setting default log level to \"WARN\".\n",
      "To adjust logging level use sc.setLogLevel(newLevel). For SparkR, use setLogLevel(newLevel).\n",
      "24/12/29 22:30:59 WARN NativeCodeLoader: Unable to load native-hadoop library for your platform... using builtin-java classes where applicable\n",
      "24/12/29 22:31:15 WARN GarbageCollectionMetrics: To enable non-built-in garbage collector(s) List(G1 Concurrent GC), users should configure it(them) to spark.eventLog.gcMetrics.youngGenerationGarbageCollectors or spark.eventLog.gcMetrics.oldGenerationGarbageCollectors\n"
     ]
    }
   ],
   "source": [
    "spark = SparkSession.builder.appName(\"Internal1\").getOrCreate()"
   ]
  },
  {
   "cell_type": "code",
   "execution_count": 3,
   "id": "1a6e56a7-5b6f-41ca-b661-95f17e7a3d03",
   "metadata": {},
   "outputs": [],
   "source": [
    "csv_path = \"Datasets/emp_data.csv\""
   ]
  },
  {
   "cell_type": "code",
   "execution_count": 17,
   "id": "83c76409-484c-4b38-b497-546d2a27a13e",
   "metadata": {},
   "outputs": [],
   "source": [
    "emp_data = spark.read.csv(csv_path, header = True, inferSchema = True)"
   ]
  },
  {
   "cell_type": "code",
   "execution_count": 18,
   "id": "f3ed804d-0056-44c4-a9c7-eba549571e5f",
   "metadata": {},
   "outputs": [
    {
     "name": "stdout",
     "output_type": "stream",
     "text": [
      "+-----+---------+---------+---------+---------+------------------+----------------+------------+--------------+------------+-------+--------------------------+---------------+--------------+--------------------+----------+-----+----------------------+----------+------------+--------+-----------+-----------------+-----------------------+\n",
      "|EmpID|FirstName| LastName|StartDate| ExitDate|             Title|      Supervisor|BusinessUnit|EmployeeStatus|EmployeeType|PayZone|EmployeeClassificationType|TerminationType|DepartmentType|            Division|       DOB|State|JobFunctionDescription|GenderCode|LocationCode|RaceDesc|MaritalDesc|Performance Score|Current Employee Rating|\n",
      "+-----+---------+---------+---------+---------+------------------+----------------+------------+--------------+------------+-------+--------------------------+---------------+--------------+--------------------+----------+-----+----------------------+----------+------------+--------+-----------+-----------------+-----------------------+\n",
      "| 3461|  Lincoln|  Compton|18-Jul-19|01-Oct-21|Area Sales Manager|    Tammy Conner|          EW|  Future Start|   Full-Time| Zone C|                 Part-Time|    Resignation|         Sales|       General - Con|29-12-1997|   CO|               Foreman|      Male|       78046|Hispanic|    Married|Needs Improvement|                      1|\n",
      "| 3463|   Kayden|   Dodson|30-Apr-20|18-Jul-21|Area Sales Manager|  Jessica Peters|         TNS|        Active|   Part-Time| Zone A|                 Temporary|     Retirement|         Sales|    Field Operations|21-06-1951|   IN|            Tower Hand|      Male|       12703|Hispanic|     Single|      Fully Meets|                      1|\n",
      "| 3467|    Celia|   Curtis|06-May-20|     NULL|Area Sales Manager|Michael Odonnell|         WBL|        Active|    Contract| Zone A|                 Part-Time|            Unk|         Sales|            Fielders|14-05-1987|   KY|              Engineer|    Female|       94333|   Asian|   Divorced|          Exceeds|                      6|\n",
      "| 3480| Jerimiah|   Harmon|08-Sep-22|16-Oct-22|Area Sales Manager|       Eric King|          PL|  Future Start|   Full-Time| Zone C|                 Temporary|     Retirement|         Sales|                Catv|09-08-1946|   TX|            Supervisor|    Female|       75671|   Black|    Widowed|      Fully Meets|                      6|\n",
      "| 3483|  Jaslene|  Harding|26-Sep-21|     NULL|Area Sales Manager|Krystal Hamilton|         SVG|        Active|   Part-Time| Zone B|                 Temporary|            Unk|         Sales|Project Managemen...|19-06-1964|   CO|           Coordinator|      Male|       42605|   Asian|    Widowed|      Fully Meets|                      6|\n",
      "| 3492|  Vicente|  Merritt|26-Nov-19|     NULL|Area Sales Manager|    Ashley Smith|          PL|        Active|   Full-Time| Zone C|                 Full-Time|            Unk|         Sales|       General - Con|08-01-1993|   CO|                 Clerk|      Male|       31676|   Asian|    Married|      Fully Meets|                      1|\n",
      "| 3497|   Graham|Rodriguez|08-Dec-21|     NULL|Area Sales Manager|   Kendra Murray|         TNS|        Active|   Part-Time| Zone C|                 Temporary|            Unk|         Sales|Project Managemen...|18-02-1981|   OR|               Lineman|    Female|       58210|Hispanic|    Widowed|      Fully Meets|                      6|\n",
      "| 3500|   Nevaeh|    Lucas|20-Nov-18|21-Jun-20|Area Sales Manager|   Bryan Douglas|         NEL|        Active|   Full-Time| Zone B|                 Part-Time|      Voluntary|         Sales|        Shop (Fleet)|25-02-2000|   TX|              Mechanic|    Female|       80424|   White|   Divorced|      Fully Meets|                      1|\n",
      "| 3502|   Eugene|    Marks|01-Oct-19|     NULL|Area Sales Manager|   Angela Morris|         BPC|        Active|   Full-Time| Zone C|                 Temporary|            Unk|         Sales|            Splicing|29-06-1976|   TX|           Electrician|      Male|       49914|   White|    Married|      Fully Meets|                      1|\n",
      "| 3505|    Amaya|    Hicks|29-Aug-20|     NULL|Area Sales Manager| Michael Wilkins|          EW|        Active|    Contract| Zone B|                 Temporary|            Unk|         Sales|    Field Operations|24-07-1943|   IN|             Groundman|      Male|       72324|Hispanic|    Widowed|      Fully Meets|                      1|\n",
      "| 3514|   Alexus|    Estes|15-Apr-20|     NULL|Area Sales Manager|  April Randolph|         BPC|        Active|   Full-Time| Zone B|                 Part-Time|            Unk|         Sales|Wireline Construc...|03-01-1958|   TX|               Manager|      Male|       17419|   Asian|    Married|      Fully Meets|                      1|\n",
      "| 3520|   Caiden|    Munoz|13-Dec-20|13-Jan-23|Area Sales Manager|   Teresa Daniel|         TNS|        Active|   Full-Time| Zone C|                 Temporary|    Involuntary|         Sales|Project Managemen...|01-03-1963|   ND|               Manager|    Female|       18983|   Black|   Divorced|      Fully Meets|                      1|\n",
      "| 3522|  Marques|Armstrong|02-Mar-20|     NULL|Area Sales Manager|  Michael Nguyen|         BPC|        Active|   Full-Time| Zone C|                 Part-Time|            Unk|         Sales|            Splicing|12-10-1983|   KY|               Splicer|    Female|       34369|   Other|     Single|      Fully Meets|                      1|\n",
      "| 3527|    Ahmed|  Hawkins|01-May-20|25-Feb-21|Area Sales Manager|   Hannah Snyder|          PL|        Active|   Full-Time| Zone B|                 Temporary|     Retirement|         Sales|              Aerial|15-10-1974|   CO|               Lineman|      Male|       46645|   Black|    Married|      Fully Meets|                      1|\n",
      "| 3531|   Ronnie|    Mayer|17-Jun-23|     NULL|Area Sales Manager|     Dylan Blake|         WBL|        Active|   Full-Time| Zone C|                 Full-Time|            Unk|         Sales|Project Managemen...|18-05-1943|   CA|       Project Manager|      Male|       18409|   Black|   Divorced|      Fully Meets|                      1|\n",
      "| 3532|   Marlon|     Ford|14-Oct-21|     NULL|Area Sales Manager|Monique Anderson|          EW|        Active|   Part-Time| Zone B|                 Full-Time|            Unk|         IT/IS|            Wireless|27-11-1966|   OR|            Technician|    Female|       40306|   Black|    Widowed|      Fully Meets|                      1|\n",
      "| 3542|    Ellie|     Gill|15-Apr-23|     NULL|Area Sales Manager|   Amanda Knight|          EW|        Active|    Contract| Zone A|                 Temporary|            Unk|         Sales|    Field Operations|01-03-1948|   IN|               Manager|      Male|       45456|   White|    Married|Needs Improvement|                      1|\n",
      "| 3545|    Ryann|    Rubio|07-Mar-22|     NULL|Area Sales Manager|    Andres Jones|          EW|        Active|   Full-Time| Zone C|                 Temporary|            Unk|         IT/IS|    Field Operations|28-01-1943|   OR|               Locator|    Female|        9733|   Black|    Widowed|      Fully Meets|                      1|\n",
      "| 3546|    Paris|     Carr|31-Jul-21|27-Jan-23|Area Sales Manager| Jeffrey Huffman|        CCDR|        Active|   Full-Time| Zone B|                 Part-Time|      Voluntary|         Sales|       General - Con|14-07-1980|   ND|               Foreman|      Male|       35786|Hispanic|    Widowed|          Exceeds|                      1|\n",
      "| 3548|    Sanaa|    Glass|11-Jul-21|10-Oct-22|Area Sales Manager|  Stephen Garcia|         WBL|        Active|   Part-Time| Zone A|                 Full-Time|    Resignation|         Sales|       General - Con|25-01-1964|   KY|            Technician|    Female|       40135|   White|     Single|      Fully Meets|                      1|\n",
      "+-----+---------+---------+---------+---------+------------------+----------------+------------+--------------+------------+-------+--------------------------+---------------+--------------+--------------------+----------+-----+----------------------+----------+------------+--------+-----------+-----------------+-----------------------+\n",
      "only showing top 20 rows\n",
      "\n"
     ]
    }
   ],
   "source": [
    "emp_data.show()"
   ]
  },
  {
   "cell_type": "code",
   "execution_count": 19,
   "id": "4764c70b-1c52-4676-958b-d56cc78075a1",
   "metadata": {},
   "outputs": [
    {
     "name": "stdout",
     "output_type": "stream",
     "text": [
      "Column EmpID has 0 null values.\n",
      "Column FirstName has 0 null values.\n",
      "Column LastName has 0 null values.\n",
      "Column StartDate has 0 null values.\n",
      "Column ExitDate has 263 null values.\n",
      "Column Title has 0 null values.\n",
      "Column Supervisor has 0 null values.\n",
      "Column BusinessUnit has 0 null values.\n",
      "Column EmployeeStatus has 0 null values.\n",
      "Column EmployeeType has 0 null values.\n",
      "Column PayZone has 0 null values.\n",
      "Column EmployeeClassificationType has 0 null values.\n",
      "Column TerminationType has 0 null values.\n",
      "Column DepartmentType has 0 null values.\n",
      "Column Division has 0 null values.\n",
      "Column DOB has 0 null values.\n",
      "Column State has 0 null values.\n",
      "Column JobFunctionDescription has 0 null values.\n",
      "Column GenderCode has 0 null values.\n",
      "Column LocationCode has 0 null values.\n",
      "Column RaceDesc has 0 null values.\n",
      "Column MaritalDesc has 0 null values.\n",
      "Column Performance Score has 0 null values.\n",
      "Column Current Employee Rating has 0 null values.\n"
     ]
    }
   ],
   "source": [
    "for column in emp_data.columns:\n",
    "    null_count = emp_data.filter(col(column).isNull()).count()\n",
    "    print(f\"Column {column} has {null_count} null values.\")"
   ]
  },
  {
   "cell_type": "code",
   "execution_count": 20,
   "id": "9f7da63c-25fd-46b6-a52b-b2b79cc743fc",
   "metadata": {},
   "outputs": [],
   "source": [
    "emp_data = emp_data.fillna({\"LastName\":\"Unknown\"})"
   ]
  },
  {
   "cell_type": "code",
   "execution_count": 21,
   "id": "7ad750bf-4303-4290-9288-66d78baa7060",
   "metadata": {},
   "outputs": [],
   "source": [
    "emp_data = emp_data.dropna(subset = [\"EmpID\",\"StartDate\"])"
   ]
  },
  {
   "cell_type": "code",
   "execution_count": 22,
   "id": "ba2642ea-6c5c-4c32-9833-9d8d5675579e",
   "metadata": {},
   "outputs": [],
   "source": [
    "emp_data = emp_data.filter(col(\"Current Employee Rating\").between(1, 5))"
   ]
  },
  {
   "cell_type": "code",
   "execution_count": 23,
   "id": "fc46f092-9923-4444-afdc-d1caf3bb9460",
   "metadata": {},
   "outputs": [
    {
     "name": "stdout",
     "output_type": "stream",
     "text": [
      "+-----+---------+---------+---------+---------+--------------------+----------------+------------+--------------+------------+-------+--------------------------+---------------+-----------------+--------------------+----------+-----+----------------------+----------+------------+--------+-----------+-----------------+-----------------------+\n",
      "|EmpID|FirstName| LastName|StartDate| ExitDate|               Title|      Supervisor|BusinessUnit|EmployeeStatus|EmployeeType|PayZone|EmployeeClassificationType|TerminationType|   DepartmentType|            Division|       DOB|State|JobFunctionDescription|GenderCode|LocationCode|RaceDesc|MaritalDesc|Performance Score|Current Employee Rating|\n",
      "+-----+---------+---------+---------+---------+--------------------+----------------+------------+--------------+------------+-------+--------------------------+---------------+-----------------+--------------------+----------+-----+----------------------+----------+------------+--------+-----------+-----------------+-----------------------+\n",
      "| 3461|  Lincoln|  Compton|18-Jul-19|01-Oct-21|  Area Sales Manager|    Tammy Conner|          EW|  Future Start|   Full-Time| Zone C|                 Part-Time|    Resignation|            Sales|       General - Con|29-12-1997|   CO|               Foreman|      Male|       78046|Hispanic|    Married|Needs Improvement|                      1|\n",
      "| 3463|   Kayden|   Dodson|30-Apr-20|18-Jul-21|  Area Sales Manager|  Jessica Peters|         TNS|        Active|   Part-Time| Zone A|                 Temporary|     Retirement|            Sales|    Field Operations|21-06-1951|   IN|            Tower Hand|      Male|       12703|Hispanic|     Single|      Fully Meets|                      1|\n",
      "| 3492|  Vicente|  Merritt|26-Nov-19|     NULL|  Area Sales Manager|    Ashley Smith|          PL|        Active|   Full-Time| Zone C|                 Full-Time|            Unk|            Sales|       General - Con|08-01-1993|   CO|                 Clerk|      Male|       31676|   Asian|    Married|      Fully Meets|                      1|\n",
      "| 3500|   Nevaeh|    Lucas|20-Nov-18|21-Jun-20|  Area Sales Manager|   Bryan Douglas|         NEL|        Active|   Full-Time| Zone B|                 Part-Time|      Voluntary|            Sales|        Shop (Fleet)|25-02-2000|   TX|              Mechanic|    Female|       80424|   White|   Divorced|      Fully Meets|                      1|\n",
      "| 3502|   Eugene|    Marks|01-Oct-19|     NULL|  Area Sales Manager|   Angela Morris|         BPC|        Active|   Full-Time| Zone C|                 Temporary|            Unk|            Sales|            Splicing|29-06-1976|   TX|           Electrician|      Male|       49914|   White|    Married|      Fully Meets|                      1|\n",
      "| 3505|    Amaya|    Hicks|29-Aug-20|     NULL|  Area Sales Manager| Michael Wilkins|          EW|        Active|    Contract| Zone B|                 Temporary|            Unk|            Sales|    Field Operations|24-07-1943|   IN|             Groundman|      Male|       72324|Hispanic|    Widowed|      Fully Meets|                      1|\n",
      "| 3514|   Alexus|    Estes|15-Apr-20|     NULL|  Area Sales Manager|  April Randolph|         BPC|        Active|   Full-Time| Zone B|                 Part-Time|            Unk|            Sales|Wireline Construc...|03-01-1958|   TX|               Manager|      Male|       17419|   Asian|    Married|      Fully Meets|                      1|\n",
      "| 3520|   Caiden|    Munoz|13-Dec-20|13-Jan-23|  Area Sales Manager|   Teresa Daniel|         TNS|        Active|   Full-Time| Zone C|                 Temporary|    Involuntary|            Sales|Project Managemen...|01-03-1963|   ND|               Manager|    Female|       18983|   Black|   Divorced|      Fully Meets|                      1|\n",
      "| 3522|  Marques|Armstrong|02-Mar-20|     NULL|  Area Sales Manager|  Michael Nguyen|         BPC|        Active|   Full-Time| Zone C|                 Part-Time|            Unk|            Sales|            Splicing|12-10-1983|   KY|               Splicer|    Female|       34369|   Other|     Single|      Fully Meets|                      1|\n",
      "| 3527|    Ahmed|  Hawkins|01-May-20|25-Feb-21|  Area Sales Manager|   Hannah Snyder|          PL|        Active|   Full-Time| Zone B|                 Temporary|     Retirement|            Sales|              Aerial|15-10-1974|   CO|               Lineman|      Male|       46645|   Black|    Married|      Fully Meets|                      1|\n",
      "| 3531|   Ronnie|    Mayer|17-Jun-23|     NULL|  Area Sales Manager|     Dylan Blake|         WBL|        Active|   Full-Time| Zone C|                 Full-Time|            Unk|            Sales|Project Managemen...|18-05-1943|   CA|       Project Manager|      Male|       18409|   Black|   Divorced|      Fully Meets|                      1|\n",
      "| 3532|   Marlon|     Ford|14-Oct-21|     NULL|  Area Sales Manager|Monique Anderson|          EW|        Active|   Part-Time| Zone B|                 Full-Time|            Unk|            IT/IS|            Wireless|27-11-1966|   OR|            Technician|    Female|       40306|   Black|    Widowed|      Fully Meets|                      1|\n",
      "| 3542|    Ellie|     Gill|15-Apr-23|     NULL|  Area Sales Manager|   Amanda Knight|          EW|        Active|    Contract| Zone A|                 Temporary|            Unk|            Sales|    Field Operations|01-03-1948|   IN|               Manager|      Male|       45456|   White|    Married|Needs Improvement|                      1|\n",
      "| 3545|    Ryann|    Rubio|07-Mar-22|     NULL|  Area Sales Manager|    Andres Jones|          EW|        Active|   Full-Time| Zone C|                 Temporary|            Unk|            IT/IS|    Field Operations|28-01-1943|   OR|               Locator|    Female|        9733|   Black|    Widowed|      Fully Meets|                      1|\n",
      "| 3546|    Paris|     Carr|31-Jul-21|27-Jan-23|  Area Sales Manager| Jeffrey Huffman|        CCDR|        Active|   Full-Time| Zone B|                 Part-Time|      Voluntary|            Sales|       General - Con|14-07-1980|   ND|               Foreman|      Male|       35786|Hispanic|    Widowed|          Exceeds|                      1|\n",
      "| 3548|    Sanaa|    Glass|11-Jul-21|10-Oct-22|  Area Sales Manager|  Stephen Garcia|         WBL|        Active|   Part-Time| Zone A|                 Full-Time|    Resignation|            Sales|       General - Con|25-01-1964|   KY|            Technician|    Female|       40135|   White|     Single|      Fully Meets|                      1|\n",
      "| 3550|  Charlie| Atkinson|26-Nov-21|14-Oct-22|  Area Sales Manager|  Jennifer Hicks|         SVG|  Future Start|   Part-Time| Zone C|                 Temporary|    Resignation|            Sales|Wireline Construc...|26-03-1988|   TX|               Billing|      Male|       57754|   White|   Divorced|      Fully Meets|                      1|\n",
      "| 3552|   Harper|    Ramos|16-Feb-20|03-Jun-20|  Area Sales Manager|      Maria Chan|          PL|        Active|   Full-Time| Zone B|                 Full-Time|     Retirement|            Sales|    Field Operations|11-08-1942|   CO|               Foreman|      Male|       28714|   White|     Single|Needs Improvement|                      1|\n",
      "| 3554|   Lizeth|  Holland|31-Mar-19|     NULL|  Area Sales Manager|    Tonya Martin|         MSC|        Active|   Part-Time| Zone C|                 Temporary|            Unk|            Sales|     People Services|14-10-1958|   IN|                   Cpo|      Male|       78385|   Asian|    Widowed|      Fully Meets|                      1|\n",
      "| 3558|  Mildred|   Gentry|30-Dec-18|     NULL|Production Techni...|      Erin Moore|         MSC|        Active|   Part-Time| Zone A|                 Part-Time|            Unk|Production       |Yard (Material Ha...|04-06-1959|   MA|               Manager|    Female|        2145|   Black|     Single|      Fully Meets|                      1|\n",
      "+-----+---------+---------+---------+---------+--------------------+----------------+------------+--------------+------------+-------+--------------------------+---------------+-----------------+--------------------+----------+-----+----------------------+----------+------------+--------+-----------+-----------------+-----------------------+\n",
      "only showing top 20 rows\n",
      "\n"
     ]
    }
   ],
   "source": [
    "emp_data.show()"
   ]
  },
  {
   "cell_type": "code",
   "execution_count": 24,
   "id": "3b6dc903-8856-4427-9384-ad85aef9dfe0",
   "metadata": {},
   "outputs": [],
   "source": [
    "emp_df = emp_data.filter(col(\"LocationCode\").rlike(\"^[0-9]+$\"))"
   ]
  },
  {
   "cell_type": "code",
   "execution_count": 25,
   "id": "d24331b2-cdb4-470c-a7e3-270f7171ee57",
   "metadata": {},
   "outputs": [
    {
     "name": "stdout",
     "output_type": "stream",
     "text": [
      "+-----+---------+---------+---------+---------+--------------------+----------------+------------+--------------+------------+-------+--------------------------+---------------+-----------------+--------------------+----------+-----+----------------------+----------+------------+--------+-----------+-----------------+-----------------------+\n",
      "|EmpID|FirstName| LastName|StartDate| ExitDate|               Title|      Supervisor|BusinessUnit|EmployeeStatus|EmployeeType|PayZone|EmployeeClassificationType|TerminationType|   DepartmentType|            Division|       DOB|State|JobFunctionDescription|GenderCode|LocationCode|RaceDesc|MaritalDesc|Performance Score|Current Employee Rating|\n",
      "+-----+---------+---------+---------+---------+--------------------+----------------+------------+--------------+------------+-------+--------------------------+---------------+-----------------+--------------------+----------+-----+----------------------+----------+------------+--------+-----------+-----------------+-----------------------+\n",
      "| 3461|  Lincoln|  Compton|18-Jul-19|01-Oct-21|  Area Sales Manager|    Tammy Conner|          EW|  Future Start|   Full-Time| Zone C|                 Part-Time|    Resignation|            Sales|       General - Con|29-12-1997|   CO|               Foreman|      Male|       78046|Hispanic|    Married|Needs Improvement|                      1|\n",
      "| 3463|   Kayden|   Dodson|30-Apr-20|18-Jul-21|  Area Sales Manager|  Jessica Peters|         TNS|        Active|   Part-Time| Zone A|                 Temporary|     Retirement|            Sales|    Field Operations|21-06-1951|   IN|            Tower Hand|      Male|       12703|Hispanic|     Single|      Fully Meets|                      1|\n",
      "| 3492|  Vicente|  Merritt|26-Nov-19|     NULL|  Area Sales Manager|    Ashley Smith|          PL|        Active|   Full-Time| Zone C|                 Full-Time|            Unk|            Sales|       General - Con|08-01-1993|   CO|                 Clerk|      Male|       31676|   Asian|    Married|      Fully Meets|                      1|\n",
      "| 3500|   Nevaeh|    Lucas|20-Nov-18|21-Jun-20|  Area Sales Manager|   Bryan Douglas|         NEL|        Active|   Full-Time| Zone B|                 Part-Time|      Voluntary|            Sales|        Shop (Fleet)|25-02-2000|   TX|              Mechanic|    Female|       80424|   White|   Divorced|      Fully Meets|                      1|\n",
      "| 3502|   Eugene|    Marks|01-Oct-19|     NULL|  Area Sales Manager|   Angela Morris|         BPC|        Active|   Full-Time| Zone C|                 Temporary|            Unk|            Sales|            Splicing|29-06-1976|   TX|           Electrician|      Male|       49914|   White|    Married|      Fully Meets|                      1|\n",
      "| 3505|    Amaya|    Hicks|29-Aug-20|     NULL|  Area Sales Manager| Michael Wilkins|          EW|        Active|    Contract| Zone B|                 Temporary|            Unk|            Sales|    Field Operations|24-07-1943|   IN|             Groundman|      Male|       72324|Hispanic|    Widowed|      Fully Meets|                      1|\n",
      "| 3514|   Alexus|    Estes|15-Apr-20|     NULL|  Area Sales Manager|  April Randolph|         BPC|        Active|   Full-Time| Zone B|                 Part-Time|            Unk|            Sales|Wireline Construc...|03-01-1958|   TX|               Manager|      Male|       17419|   Asian|    Married|      Fully Meets|                      1|\n",
      "| 3520|   Caiden|    Munoz|13-Dec-20|13-Jan-23|  Area Sales Manager|   Teresa Daniel|         TNS|        Active|   Full-Time| Zone C|                 Temporary|    Involuntary|            Sales|Project Managemen...|01-03-1963|   ND|               Manager|    Female|       18983|   Black|   Divorced|      Fully Meets|                      1|\n",
      "| 3522|  Marques|Armstrong|02-Mar-20|     NULL|  Area Sales Manager|  Michael Nguyen|         BPC|        Active|   Full-Time| Zone C|                 Part-Time|            Unk|            Sales|            Splicing|12-10-1983|   KY|               Splicer|    Female|       34369|   Other|     Single|      Fully Meets|                      1|\n",
      "| 3527|    Ahmed|  Hawkins|01-May-20|25-Feb-21|  Area Sales Manager|   Hannah Snyder|          PL|        Active|   Full-Time| Zone B|                 Temporary|     Retirement|            Sales|              Aerial|15-10-1974|   CO|               Lineman|      Male|       46645|   Black|    Married|      Fully Meets|                      1|\n",
      "| 3531|   Ronnie|    Mayer|17-Jun-23|     NULL|  Area Sales Manager|     Dylan Blake|         WBL|        Active|   Full-Time| Zone C|                 Full-Time|            Unk|            Sales|Project Managemen...|18-05-1943|   CA|       Project Manager|      Male|       18409|   Black|   Divorced|      Fully Meets|                      1|\n",
      "| 3532|   Marlon|     Ford|14-Oct-21|     NULL|  Area Sales Manager|Monique Anderson|          EW|        Active|   Part-Time| Zone B|                 Full-Time|            Unk|            IT/IS|            Wireless|27-11-1966|   OR|            Technician|    Female|       40306|   Black|    Widowed|      Fully Meets|                      1|\n",
      "| 3542|    Ellie|     Gill|15-Apr-23|     NULL|  Area Sales Manager|   Amanda Knight|          EW|        Active|    Contract| Zone A|                 Temporary|            Unk|            Sales|    Field Operations|01-03-1948|   IN|               Manager|      Male|       45456|   White|    Married|Needs Improvement|                      1|\n",
      "| 3545|    Ryann|    Rubio|07-Mar-22|     NULL|  Area Sales Manager|    Andres Jones|          EW|        Active|   Full-Time| Zone C|                 Temporary|            Unk|            IT/IS|    Field Operations|28-01-1943|   OR|               Locator|    Female|        9733|   Black|    Widowed|      Fully Meets|                      1|\n",
      "| 3546|    Paris|     Carr|31-Jul-21|27-Jan-23|  Area Sales Manager| Jeffrey Huffman|        CCDR|        Active|   Full-Time| Zone B|                 Part-Time|      Voluntary|            Sales|       General - Con|14-07-1980|   ND|               Foreman|      Male|       35786|Hispanic|    Widowed|          Exceeds|                      1|\n",
      "| 3548|    Sanaa|    Glass|11-Jul-21|10-Oct-22|  Area Sales Manager|  Stephen Garcia|         WBL|        Active|   Part-Time| Zone A|                 Full-Time|    Resignation|            Sales|       General - Con|25-01-1964|   KY|            Technician|    Female|       40135|   White|     Single|      Fully Meets|                      1|\n",
      "| 3550|  Charlie| Atkinson|26-Nov-21|14-Oct-22|  Area Sales Manager|  Jennifer Hicks|         SVG|  Future Start|   Part-Time| Zone C|                 Temporary|    Resignation|            Sales|Wireline Construc...|26-03-1988|   TX|               Billing|      Male|       57754|   White|   Divorced|      Fully Meets|                      1|\n",
      "| 3552|   Harper|    Ramos|16-Feb-20|03-Jun-20|  Area Sales Manager|      Maria Chan|          PL|        Active|   Full-Time| Zone B|                 Full-Time|     Retirement|            Sales|    Field Operations|11-08-1942|   CO|               Foreman|      Male|       28714|   White|     Single|Needs Improvement|                      1|\n",
      "| 3554|   Lizeth|  Holland|31-Mar-19|     NULL|  Area Sales Manager|    Tonya Martin|         MSC|        Active|   Part-Time| Zone C|                 Temporary|            Unk|            Sales|     People Services|14-10-1958|   IN|                   Cpo|      Male|       78385|   Asian|    Widowed|      Fully Meets|                      1|\n",
      "| 3558|  Mildred|   Gentry|30-Dec-18|     NULL|Production Techni...|      Erin Moore|         MSC|        Active|   Part-Time| Zone A|                 Part-Time|            Unk|Production       |Yard (Material Ha...|04-06-1959|   MA|               Manager|    Female|        2145|   Black|     Single|      Fully Meets|                      1|\n",
      "+-----+---------+---------+---------+---------+--------------------+----------------+------------+--------------+------------+-------+--------------------------+---------------+-----------------+--------------------+----------+-----+----------------------+----------+------------+--------+-----------+-----------------+-----------------------+\n",
      "only showing top 20 rows\n",
      "\n"
     ]
    }
   ],
   "source": [
    "emp_df.show()"
   ]
  },
  {
   "cell_type": "code",
   "execution_count": 26,
   "id": "27fbd306-2753-441a-950e-cdae865a5f7b",
   "metadata": {},
   "outputs": [],
   "source": [
    "emp_df.createOrReplaceTempView(\"employee\")"
   ]
  },
  {
   "cell_type": "code",
   "execution_count": 27,
   "id": "1c4aadff-4f3c-4380-a3b3-f09170a7deeb",
   "metadata": {},
   "outputs": [
    {
     "data": {
      "text/plain": [
       "['EmpID',\n",
       " 'FirstName',\n",
       " 'LastName',\n",
       " 'StartDate',\n",
       " 'ExitDate',\n",
       " 'Title',\n",
       " 'Supervisor',\n",
       " 'BusinessUnit',\n",
       " 'EmployeeStatus',\n",
       " 'EmployeeType',\n",
       " 'PayZone',\n",
       " 'EmployeeClassificationType',\n",
       " 'TerminationType',\n",
       " 'DepartmentType',\n",
       " 'Division',\n",
       " 'DOB',\n",
       " 'State',\n",
       " 'JobFunctionDescription',\n",
       " 'GenderCode',\n",
       " 'LocationCode',\n",
       " 'RaceDesc',\n",
       " 'MaritalDesc',\n",
       " 'Performance Score',\n",
       " 'Current Employee Rating']"
      ]
     },
     "execution_count": 27,
     "metadata": {},
     "output_type": "execute_result"
    }
   ],
   "source": [
    "emp_df.columns"
   ]
  },
  {
   "cell_type": "code",
   "execution_count": 31,
   "id": "2919c69b-3f6c-48c6-b271-4761705e86a7",
   "metadata": {},
   "outputs": [],
   "source": [
    "query = \"select DepartmentType, count(DepartmentType) from employee group by DepartmentType\""
   ]
  },
  {
   "cell_type": "code",
   "execution_count": 32,
   "id": "1f61a440-ade1-4b80-bf9a-26a9d99aaf89",
   "metadata": {},
   "outputs": [],
   "source": [
    "new_emp = spark.sql(query)"
   ]
  },
  {
   "cell_type": "code",
   "execution_count": 33,
   "id": "7cdd8e02-da07-4a6f-9328-d1f0d207c1e2",
   "metadata": {},
   "outputs": [
    {
     "name": "stdout",
     "output_type": "stream",
     "text": [
      "+--------------------+---------------------+\n",
      "|      DepartmentType|count(DepartmentType)|\n",
      "+--------------------+---------------------+\n",
      "|               Sales|                  118|\n",
      "|   Production       |                  253|\n",
      "|    Executive Office|                   18|\n",
      "|Software Engineering|                    1|\n",
      "|               IT/IS|                  158|\n",
      "+--------------------+---------------------+\n",
      "\n"
     ]
    }
   ],
   "source": [
    "new_emp.show()"
   ]
  },
  {
   "cell_type": "code",
   "execution_count": 37,
   "id": "6bbbf295-7c74-4781-b54d-006bd4f01c85",
   "metadata": {},
   "outputs": [
    {
     "name": "stdout",
     "output_type": "stream",
     "text": [
      "+-----+---------+---------+---------+---------+--------------------+------------------+------------+--------------------+------------+-------+--------------------------+---------------+----------------+--------------------+----------+-----+----------------------+----------+------------+--------+-----------+-----------------+-----------------------+----+\n",
      "|EmpID|FirstName| LastName|StartDate| ExitDate|               Title|        Supervisor|BusinessUnit|      EmployeeStatus|EmployeeType|PayZone|EmployeeClassificationType|TerminationType|  DepartmentType|            Division|       DOB|State|JobFunctionDescription|GenderCode|LocationCode|RaceDesc|MaritalDesc|Performance Score|Current Employee Rating|Rank|\n",
      "+-----+---------+---------+---------+---------+--------------------+------------------+------------+--------------------+------------+-------+--------------------------+---------------+----------------+--------------------+----------+-----+----------------------+----------+------------+--------+-----------+-----------------+-----------------------+----+\n",
      "| 3833|    Elise|  Vazquez|26-Jan-22|02-Nov-22|    Network Engineer|     Melissa Baker|         PYZ|              Active|   Full-Time| Zone A|                 Part-Time|     Retirement|Executive Office|    Field Operations|12-05-1953|   MA|              Top Hand|      Male|       21738|   Asian|     Single|              PIP|                      3|   1|\n",
      "| 3844|    Edgar|Underwood|10-Jun-21|18-Aug-22|    Network Engineer|    Melissa Torres|         PYZ|              Active|   Part-Time| Zone C|                 Temporary|      Voluntary|Executive Office|       General - Con|02-06-1961|   MA|               Laborer|      Male|       49677|   White|     Single|              PIP|                      3|   1|\n",
      "| 3845|   Jaiden|Underwood|25-Aug-19|     NULL|    Network Engineer|   Jordan Caldwell|         WBL|              Active|    Contract| Zone A|                 Full-Time|            Unk|Executive Office|    Field Operations|10-08-1969|   MA|               Laborer|      Male|       69726|Hispanic|     Single|              PIP|                      3|   1|\n",
      "| 3856|   Darwin|    Allen|17-Mar-23|12-Jun-23|    Network Engineer|     Michael Young|         TNS|              Active|   Part-Time| Zone C|                 Part-Time|    Involuntary|Executive Office|Wireline Construc...|17-05-1994|   MA|             Groundman|      Male|       57170|   Other|   Divorced|              PIP|                      3|   1|\n",
      "| 3877|    Oscar|    Lopez|22-Oct-18|07-Apr-20|    Network Engineer|  Christian Ortega|         MSC|              Active|   Part-Time| Zone A|                 Full-Time|    Resignation|Executive Office|       General - Con|21-01-1976|   MA|               Lineman|      Male|       81607|   Asian|     Single|              PIP|                      3|   1|\n",
      "| 3830|  Mariana|    Glass|20-Aug-19|     NULL|Principal Data Ar...|      David Zavala|        CCDR|              Active|   Part-Time| Zone C|                 Temporary|            Unk|           IT/IS|    Field Operations|30-05-1947|   CT|            Tower Hand|      Male|       89892|   White|    Widowed|              PIP|                      3|   1|\n",
      "| 3832|   Sloane|Rasmussen|02-Aug-21|29-Sep-22|             Sr. DBA|  Melinda Mcintyre|          EW|    Leave of Absence|   Full-Time| Zone B|                 Part-Time|    Resignation|           IT/IS|Project Managemen...|07-09-1964|   MA|               Planner|    Female|       96097|Hispanic|    Widowed|              PIP|                      3|   1|\n",
      "| 3837|      Mia|    Cowan|02-Oct-22|13-Nov-22|          IT Support|     Thomas Weaver|         BPC|              Active|   Part-Time| Zone A|                 Part-Time|    Resignation|           IT/IS|Finance & Accounting|27-08-1956|   MA|        Administrative|      Male|       72879|   Other|     Single|              PIP|                      3|   1|\n",
      "| 3838|    Tanya|  Leonard|17-Dec-18|21-Apr-21|          IT Support|          Duane Le|        CCDR|              Active|   Part-Time| Zone A|                 Full-Time|      Voluntary|           IT/IS|    Field Operations|14-08-1979|   MA|             Assistant|    Female|       28364|   Asian|     Single|              PIP|                      3|   1|\n",
      "| 3839|   Dereon|     Page|11-Oct-21|     NULL|Sr. Network Engineer|  Jason Morris DVM|          PL|              Active|    Contract| Zone B|                 Part-Time|            Unk|           IT/IS|       General - Con|27-09-2000|   MA|               Lineman|      Male|       94433|Hispanic|   Divorced|              PIP|                      3|   1|\n",
      "| 3851|    Vance|  Marquez|18-Jan-19|30-Mar-20|Sr. Network Engineer|     Thomas Hanson|         NEL|    Leave of Absence|    Contract| Zone C|                 Temporary|    Resignation|           IT/IS|           Executive|07-07-1994|   CT|               Manager|      Male|       38058|   Black|    Married|              PIP|                      3|   1|\n",
      "| 3852|    Dante|    Wyatt|01-Mar-19|25-Sep-21|Principal Data Ar...|Dr. Eric Henderson|          PL|    Leave of Absence|   Part-Time| Zone A|                 Temporary|     Retirement|           IT/IS|    Field Operations|10-09-1987|   CT|               Laborer|    Female|       34011|   White|    Widowed|              PIP|                      3|   1|\n",
      "| 3857|   Jasper| Harrison|02-Oct-22|11-Oct-22|          IT Support|   Lindsey Osborne|         SVG|              Active|    Contract| Zone B|                 Temporary|      Voluntary|           IT/IS|            Fielders|24-05-1963|   MA|              Engineer|      Male|       18837|   Black|    Widowed|              PIP|                      3|   1|\n",
      "| 3859|    Clare|  English|29-Nov-19|18-Aug-22|          IT Support|    Randall Keller|          PL|              Active|   Full-Time| Zone B|                 Part-Time|      Voluntary|           IT/IS|            Fielders|20-04-1992|   MA|              Engineer|    Female|       70282|Hispanic|    Married|              PIP|                      3|   1|\n",
      "| 3861|  Lizbeth|     Hunt|24-Mar-22|     NULL|Sr. Network Engineer|  Jessica Figueroa|          PL|              Active|   Full-Time| Zone C|                 Part-Time|            Unk|           IT/IS|       General - Con|25-02-1965|   MA|               Flagger|      Male|       70757|   Other|    Widowed|              PIP|                      3|   1|\n",
      "| 3862|     Eden|Armstrong|13-May-19|06-Jun-23|Sr. Network Engineer|    Lindsey Gibson|         BPC|    Leave of Absence|   Part-Time| Zone B|                 Temporary|    Involuntary|           IT/IS|Project Managemen...|05-05-1989|   CT|              Engineer|      Male|       58224|   White|    Married|              PIP|                      3|   1|\n",
      "| 3863|   Eugene|  Mueller|07-Jun-19|     NULL|Principal Data Ar...|     Jeremy Hanson|        CCDR|              Active|    Contract| Zone A|                 Temporary|            Unk|           IT/IS|              Aerial|19-03-1972|   MA|            Technician|    Female|       38413|   Other|     Single|              PIP|                      3|   1|\n",
      "| 3876|    Alana|   Castro|24-Oct-21|     NULL|Principal Data Ar...|      Deborah Bell|        CCDR|              Active|    Contract| Zone C|                 Temporary|            Unk|           IT/IS|       General - Con|30-05-1954|   MA|               Lineman|    Female|       70578|Hispanic|     Single|              PIP|                      3|   1|\n",
      "| 3942|   Bianca| Roehrich|04-Nov-18|22-Dec-21|Principal Data Ar...|   Brian Gamble MD|         PYZ|Voluntarily Termi...|    Contract| Zone B|                 Temporary|    Resignation|           IT/IS|                Catv|04-09-1951|   MA|               Laborer|    Female|        2703|   Asian|    Married|              PIP|                      3|   1|\n",
      "| 3945|   Thelma|Petrowsky|25-Jul-22|     NULL|        Data Analyst|      Carla Wilson|         MSC|              Active|   Full-Time| Zone C|                 Temporary|            Unk|           IT/IS|           Engineers|23-03-1998|   MA|              Engineer|    Female|        1886|   Black|     Single|              PIP|                      3|   1|\n",
      "+-----+---------+---------+---------+---------+--------------------+------------------+------------+--------------------+------------+-------+--------------------------+---------------+----------------+--------------------+----------+-----+----------------------+----------+------------+--------+-----------+-----------------+-----------------------+----+\n",
      "only showing top 20 rows\n",
      "\n"
     ]
    }
   ],
   "source": [
    "from pyspark.sql.functions import col, rank\n",
    "from pyspark.sql.window import Window\n",
    "\n",
    "# Define the window specification\n",
    "window_spec = Window.partitionBy(\"DepartmentType\").orderBy(col(\"Performance Score\").desc())\n",
    "\n",
    "# Use rank() and filter the top performer\n",
    "top_performers = emp_df.withColumn(\"Rank\", rank().over(window_spec)).filter(col(\"Rank\") == 1)\n",
    "top_performers.show()\n"
   ]
  },
  {
   "cell_type": "code",
   "execution_count": 46,
   "id": "7b1f3054-2c4a-43b9-90a7-7689bd50aee1",
   "metadata": {},
   "outputs": [],
   "source": [
    "query2 = \"SELECT DepartmentType, MAX(`Curr`) FROM employee GROUP BY DepartmentType\""
   ]
  },
  {
   "cell_type": "code",
   "execution_count": 48,
   "id": "61afb588-4602-4e4f-9c50-2d7bf7e029b3",
   "metadata": {},
   "outputs": [
    {
     "data": {
      "text/plain": [
       "['EmpID',\n",
       " 'FirstName',\n",
       " 'LastName',\n",
       " 'StartDate',\n",
       " 'ExitDate',\n",
       " 'Title',\n",
       " 'Supervisor',\n",
       " 'BusinessUnit',\n",
       " 'EmployeeStatus',\n",
       " 'EmployeeType',\n",
       " 'PayZone',\n",
       " 'EmployeeClassificationType',\n",
       " 'TerminationType',\n",
       " 'DepartmentType',\n",
       " 'Division',\n",
       " 'DOB',\n",
       " 'State',\n",
       " 'JobFunctionDescription',\n",
       " 'GenderCode',\n",
       " 'LocationCode',\n",
       " 'RaceDesc',\n",
       " 'MaritalDesc',\n",
       " 'Performance Score',\n",
       " 'Current Employee Rating']"
      ]
     },
     "execution_count": 48,
     "metadata": {},
     "output_type": "execute_result"
    }
   ],
   "source": [
    "emp_df.columns\n"
   ]
  },
  {
   "cell_type": "code",
   "execution_count": 47,
   "id": "7cc8beeb-6807-485b-9bb5-6887de7fe88d",
   "metadata": {},
   "outputs": [
    {
     "ename": "AnalysisException",
     "evalue": "[UNRESOLVED_COLUMN.WITH_SUGGESTION] A column or function parameter with name `Rank` cannot be resolved. Did you mean one of the following? [`DOB`, `State`, `EmpID`, `PayZone`, `Title`].; line 1 pos 27;\n'Aggregate [DepartmentType#1131], [DepartmentType#1131, unresolvedalias('MAX('Rank), None)]\n+- SubqueryAlias employee\n   +- View (`employee`, [EmpID#1118,FirstName#1119,LastName#2032,StartDate#1121,ExitDate#1122,Title#1123,Supervisor#1124,BusinessUnit#1125,EmployeeStatus#1126,EmployeeType#1127,PayZone#1128,EmployeeClassificationType#1129,TerminationType#1130,DepartmentType#1131,Division#1132,DOB#1133,State#1134,JobFunctionDescription#1135,GenderCode#1136,LocationCode#1137,RaceDesc#1138,MaritalDesc#1139,Performance Score#1140,Current Employee Rating#1141])\n      +- Filter RLIKE(cast(LocationCode#1137 as string), ^[0-9]+$)\n         +- Filter ((Current Employee Rating#1141 >= 1) AND (Current Employee Rating#1141 <= 5))\n            +- Filter atleastnnonnulls(2, EmpID#1118, StartDate#1121)\n               +- Project [EmpID#1118, FirstName#1119, coalesce(LastName#1120, cast(Unknown as string)) AS LastName#2032, StartDate#1121, ExitDate#1122, Title#1123, Supervisor#1124, BusinessUnit#1125, EmployeeStatus#1126, EmployeeType#1127, PayZone#1128, EmployeeClassificationType#1129, TerminationType#1130, DepartmentType#1131, Division#1132, DOB#1133, State#1134, JobFunctionDescription#1135, GenderCode#1136, LocationCode#1137, RaceDesc#1138, MaritalDesc#1139, Performance Score#1140, Current Employee Rating#1141]\n                  +- Relation [EmpID#1118,FirstName#1119,LastName#1120,StartDate#1121,ExitDate#1122,Title#1123,Supervisor#1124,BusinessUnit#1125,EmployeeStatus#1126,EmployeeType#1127,PayZone#1128,EmployeeClassificationType#1129,TerminationType#1130,DepartmentType#1131,Division#1132,DOB#1133,State#1134,JobFunctionDescription#1135,GenderCode#1136,LocationCode#1137,RaceDesc#1138,MaritalDesc#1139,Performance Score#1140,Current Employee Rating#1141] csv\n",
     "output_type": "error",
     "traceback": [
      "\u001b[0;31m---------------------------------------------------------------------------\u001b[0m",
      "\u001b[0;31mAnalysisException\u001b[0m                         Traceback (most recent call last)",
      "Cell \u001b[0;32mIn[47], line 1\u001b[0m\n\u001b[0;32m----> 1\u001b[0m new_emp2 \u001b[38;5;241m=\u001b[39m \u001b[43mspark\u001b[49m\u001b[38;5;241;43m.\u001b[39;49m\u001b[43msql\u001b[49m\u001b[43m(\u001b[49m\u001b[43mquery2\u001b[49m\u001b[43m)\u001b[49m\n",
      "File \u001b[0;32m~/Tutorials/ven1/lib/python3.12/site-packages/pyspark/sql/session.py:1631\u001b[0m, in \u001b[0;36mSparkSession.sql\u001b[0;34m(self, sqlQuery, args, **kwargs)\u001b[0m\n\u001b[1;32m   1627\u001b[0m         \u001b[38;5;28;01massert\u001b[39;00m \u001b[38;5;28mself\u001b[39m\u001b[38;5;241m.\u001b[39m_jvm \u001b[38;5;129;01mis\u001b[39;00m \u001b[38;5;129;01mnot\u001b[39;00m \u001b[38;5;28;01mNone\u001b[39;00m\n\u001b[1;32m   1628\u001b[0m         litArgs \u001b[38;5;241m=\u001b[39m \u001b[38;5;28mself\u001b[39m\u001b[38;5;241m.\u001b[39m_jvm\u001b[38;5;241m.\u001b[39mPythonUtils\u001b[38;5;241m.\u001b[39mtoArray(\n\u001b[1;32m   1629\u001b[0m             [_to_java_column(lit(v)) \u001b[38;5;28;01mfor\u001b[39;00m v \u001b[38;5;129;01min\u001b[39;00m (args \u001b[38;5;129;01mor\u001b[39;00m [])]\n\u001b[1;32m   1630\u001b[0m         )\n\u001b[0;32m-> 1631\u001b[0m     \u001b[38;5;28;01mreturn\u001b[39;00m DataFrame(\u001b[38;5;28;43mself\u001b[39;49m\u001b[38;5;241;43m.\u001b[39;49m\u001b[43m_jsparkSession\u001b[49m\u001b[38;5;241;43m.\u001b[39;49m\u001b[43msql\u001b[49m\u001b[43m(\u001b[49m\u001b[43msqlQuery\u001b[49m\u001b[43m,\u001b[49m\u001b[43m \u001b[49m\u001b[43mlitArgs\u001b[49m\u001b[43m)\u001b[49m, \u001b[38;5;28mself\u001b[39m)\n\u001b[1;32m   1632\u001b[0m \u001b[38;5;28;01mfinally\u001b[39;00m:\n\u001b[1;32m   1633\u001b[0m     \u001b[38;5;28;01mif\u001b[39;00m \u001b[38;5;28mlen\u001b[39m(kwargs) \u001b[38;5;241m>\u001b[39m \u001b[38;5;241m0\u001b[39m:\n",
      "File \u001b[0;32m~/Tutorials/ven1/lib/python3.12/site-packages/py4j/java_gateway.py:1322\u001b[0m, in \u001b[0;36mJavaMember.__call__\u001b[0;34m(self, *args)\u001b[0m\n\u001b[1;32m   1316\u001b[0m command \u001b[38;5;241m=\u001b[39m proto\u001b[38;5;241m.\u001b[39mCALL_COMMAND_NAME \u001b[38;5;241m+\u001b[39m\\\n\u001b[1;32m   1317\u001b[0m     \u001b[38;5;28mself\u001b[39m\u001b[38;5;241m.\u001b[39mcommand_header \u001b[38;5;241m+\u001b[39m\\\n\u001b[1;32m   1318\u001b[0m     args_command \u001b[38;5;241m+\u001b[39m\\\n\u001b[1;32m   1319\u001b[0m     proto\u001b[38;5;241m.\u001b[39mEND_COMMAND_PART\n\u001b[1;32m   1321\u001b[0m answer \u001b[38;5;241m=\u001b[39m \u001b[38;5;28mself\u001b[39m\u001b[38;5;241m.\u001b[39mgateway_client\u001b[38;5;241m.\u001b[39msend_command(command)\n\u001b[0;32m-> 1322\u001b[0m return_value \u001b[38;5;241m=\u001b[39m \u001b[43mget_return_value\u001b[49m\u001b[43m(\u001b[49m\n\u001b[1;32m   1323\u001b[0m \u001b[43m    \u001b[49m\u001b[43manswer\u001b[49m\u001b[43m,\u001b[49m\u001b[43m \u001b[49m\u001b[38;5;28;43mself\u001b[39;49m\u001b[38;5;241;43m.\u001b[39;49m\u001b[43mgateway_client\u001b[49m\u001b[43m,\u001b[49m\u001b[43m \u001b[49m\u001b[38;5;28;43mself\u001b[39;49m\u001b[38;5;241;43m.\u001b[39;49m\u001b[43mtarget_id\u001b[49m\u001b[43m,\u001b[49m\u001b[43m \u001b[49m\u001b[38;5;28;43mself\u001b[39;49m\u001b[38;5;241;43m.\u001b[39;49m\u001b[43mname\u001b[49m\u001b[43m)\u001b[49m\n\u001b[1;32m   1325\u001b[0m \u001b[38;5;28;01mfor\u001b[39;00m temp_arg \u001b[38;5;129;01min\u001b[39;00m temp_args:\n\u001b[1;32m   1326\u001b[0m     \u001b[38;5;28;01mif\u001b[39;00m \u001b[38;5;28mhasattr\u001b[39m(temp_arg, \u001b[38;5;124m\"\u001b[39m\u001b[38;5;124m_detach\u001b[39m\u001b[38;5;124m\"\u001b[39m):\n",
      "File \u001b[0;32m~/Tutorials/ven1/lib/python3.12/site-packages/pyspark/errors/exceptions/captured.py:185\u001b[0m, in \u001b[0;36mcapture_sql_exception.<locals>.deco\u001b[0;34m(*a, **kw)\u001b[0m\n\u001b[1;32m    181\u001b[0m converted \u001b[38;5;241m=\u001b[39m convert_exception(e\u001b[38;5;241m.\u001b[39mjava_exception)\n\u001b[1;32m    182\u001b[0m \u001b[38;5;28;01mif\u001b[39;00m \u001b[38;5;129;01mnot\u001b[39;00m \u001b[38;5;28misinstance\u001b[39m(converted, UnknownException):\n\u001b[1;32m    183\u001b[0m     \u001b[38;5;66;03m# Hide where the exception came from that shows a non-Pythonic\u001b[39;00m\n\u001b[1;32m    184\u001b[0m     \u001b[38;5;66;03m# JVM exception message.\u001b[39;00m\n\u001b[0;32m--> 185\u001b[0m     \u001b[38;5;28;01mraise\u001b[39;00m converted \u001b[38;5;28;01mfrom\u001b[39;00m \u001b[38;5;28;01mNone\u001b[39;00m\n\u001b[1;32m    186\u001b[0m \u001b[38;5;28;01melse\u001b[39;00m:\n\u001b[1;32m    187\u001b[0m     \u001b[38;5;28;01mraise\u001b[39;00m\n",
      "\u001b[0;31mAnalysisException\u001b[0m: [UNRESOLVED_COLUMN.WITH_SUGGESTION] A column or function parameter with name `Rank` cannot be resolved. Did you mean one of the following? [`DOB`, `State`, `EmpID`, `PayZone`, `Title`].; line 1 pos 27;\n'Aggregate [DepartmentType#1131], [DepartmentType#1131, unresolvedalias('MAX('Rank), None)]\n+- SubqueryAlias employee\n   +- View (`employee`, [EmpID#1118,FirstName#1119,LastName#2032,StartDate#1121,ExitDate#1122,Title#1123,Supervisor#1124,BusinessUnit#1125,EmployeeStatus#1126,EmployeeType#1127,PayZone#1128,EmployeeClassificationType#1129,TerminationType#1130,DepartmentType#1131,Division#1132,DOB#1133,State#1134,JobFunctionDescription#1135,GenderCode#1136,LocationCode#1137,RaceDesc#1138,MaritalDesc#1139,Performance Score#1140,Current Employee Rating#1141])\n      +- Filter RLIKE(cast(LocationCode#1137 as string), ^[0-9]+$)\n         +- Filter ((Current Employee Rating#1141 >= 1) AND (Current Employee Rating#1141 <= 5))\n            +- Filter atleastnnonnulls(2, EmpID#1118, StartDate#1121)\n               +- Project [EmpID#1118, FirstName#1119, coalesce(LastName#1120, cast(Unknown as string)) AS LastName#2032, StartDate#1121, ExitDate#1122, Title#1123, Supervisor#1124, BusinessUnit#1125, EmployeeStatus#1126, EmployeeType#1127, PayZone#1128, EmployeeClassificationType#1129, TerminationType#1130, DepartmentType#1131, Division#1132, DOB#1133, State#1134, JobFunctionDescription#1135, GenderCode#1136, LocationCode#1137, RaceDesc#1138, MaritalDesc#1139, Performance Score#1140, Current Employee Rating#1141]\n                  +- Relation [EmpID#1118,FirstName#1119,LastName#1120,StartDate#1121,ExitDate#1122,Title#1123,Supervisor#1124,BusinessUnit#1125,EmployeeStatus#1126,EmployeeType#1127,PayZone#1128,EmployeeClassificationType#1129,TerminationType#1130,DepartmentType#1131,Division#1132,DOB#1133,State#1134,JobFunctionDescription#1135,GenderCode#1136,LocationCode#1137,RaceDesc#1138,MaritalDesc#1139,Performance Score#1140,Current Employee Rating#1141] csv\n"
     ]
    }
   ],
   "source": [
    "new_emp2 = spark.sql(query2)"
   ]
  },
  {
   "cell_type": "code",
   "execution_count": 45,
   "id": "c626ed61-12e1-4f3b-8bc7-15612a2ec0d0",
   "metadata": {},
   "outputs": [
    {
     "name": "stdout",
     "output_type": "stream",
     "text": [
      "+--------------------+----------------------+\n",
      "|      DepartmentType|max(Performance Score)|\n",
      "+--------------------+----------------------+\n",
      "|    Executive Office|                   PIP|\n",
      "|               IT/IS|                   PIP|\n",
      "|   Production       |                   PIP|\n",
      "|               Sales|     Needs Improvement|\n",
      "|Software Engineering|           Fully Meets|\n",
      "+--------------------+----------------------+\n",
      "\n"
     ]
    }
   ],
   "source": [
    "new_emp2.show()"
   ]
  },
  {
   "cell_type": "code",
   "execution_count": null,
   "id": "2ea90dfd-b457-4062-be91-b5d489d094d6",
   "metadata": {},
   "outputs": [],
   "source": []
  }
 ],
 "metadata": {
  "kernelspec": {
   "display_name": "Python 3 (ipykernel)",
   "language": "python",
   "name": "python3"
  },
  "language_info": {
   "codemirror_mode": {
    "name": "ipython",
    "version": 3
   },
   "file_extension": ".py",
   "mimetype": "text/x-python",
   "name": "python",
   "nbconvert_exporter": "python",
   "pygments_lexer": "ipython3",
   "version": "3.12.6"
  }
 },
 "nbformat": 4,
 "nbformat_minor": 5
}
