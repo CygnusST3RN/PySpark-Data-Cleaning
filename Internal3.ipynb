{
 "cells": [
  {
   "cell_type": "code",
   "execution_count": 1,
   "id": "f1019f18-c18d-420f-9774-54de6342909b",
   "metadata": {},
   "outputs": [
    {
     "name": "stderr",
     "output_type": "stream",
     "text": [
      "24/12/30 06:29:49 WARN Utils: Your hostname, arch resolves to a loopback address: 127.0.1.1; using 10.20.31.204 instead (on interface wlp5s0)\n",
      "24/12/30 06:29:49 WARN Utils: Set SPARK_LOCAL_IP if you need to bind to another address\n",
      "Setting default log level to \"WARN\".\n",
      "To adjust logging level use sc.setLogLevel(newLevel). For SparkR, use setLogLevel(newLevel).\n",
      "24/12/30 06:29:50 WARN NativeCodeLoader: Unable to load native-hadoop library for your platform... using builtin-java classes where applicable\n",
      "24/12/30 06:30:01 WARN GarbageCollectionMetrics: To enable non-built-in garbage collector(s) List(G1 Concurrent GC), users should configure it(them) to spark.eventLog.gcMetrics.youngGenerationGarbageCollectors or spark.eventLog.gcMetrics.oldGenerationGarbageCollectors\n"
     ]
    }
   ],
   "source": [
    "from pyspark.sql import SparkSession\n",
    "from pyspark.sql.functions import col, split, mean, when\n",
    "\n",
    "spark = SparkSession.builder.appName(\"Internal3\").getOrCreate()"
   ]
  },
  {
   "cell_type": "code",
   "execution_count": 5,
   "id": "2db1dd5a-a7ca-4821-9cfd-b97d2898c0a5",
   "metadata": {},
   "outputs": [],
   "source": [
    "csv_path = \"Datasets/Cleaned_DS_Jobs.csv\""
   ]
  },
  {
   "cell_type": "code",
   "execution_count": 6,
   "id": "f825b356-ba44-4cf4-8f5c-8f510099620c",
   "metadata": {},
   "outputs": [],
   "source": [
    "jobs_df = spark.read.csv(csv_path, header = True, inferSchema = True)"
   ]
  },
  {
   "cell_type": "code",
   "execution_count": 7,
   "id": "fa4b08e8-4925-46f4-9e41-c71a4d693dbc",
   "metadata": {},
   "outputs": [],
   "source": [
    "df = jobs_df"
   ]
  },
  {
   "cell_type": "code",
   "execution_count": 8,
   "id": "66ba4389-403d-4f77-af94-7c53bdefd548",
   "metadata": {},
   "outputs": [
    {
     "name": "stdout",
     "output_type": "stream",
     "text": [
      "+--------------------+---------------+------+-----------------+--------------------+--------------------+--------------------+--------------------+---------+-----------+------+-----+-------+\n",
      "|           Job Title|Salary Estimate|Rating|         Location|                Size|   Type of ownership|            Industry|              Sector|job_state|company_age|python|spark|tableau|\n",
      "+--------------------+---------------+------+-----------------+--------------------+--------------------+--------------------+--------------------+---------+-----------+------+-----+-------+\n",
      "|   Sr Data Scientist|       137-171 |   3.1|     New York, NY|1001 to 5000 empl...|Nonprofit Organiz...|  Insurance Carriers|           Insurance|       NY|         27|     0|    0|      0|\n",
      "|      Data Scientist|       137-171 |   4.2|    Chantilly, VA|5001 to 10000 emp...|    Company - Public|Research & Develo...|   Business Services|       VA|         52|     0|    0|      0|\n",
      "|      Data Scientist|       137-171 |   3.8|       Boston, MA|1001 to 5000 empl...|Private Practice ...|          Consulting|   Business Services|       MA|         39|     1|    0|      0|\n",
      "|      Data Scientist|       137-171 |   3.5|       Newton, MA|501 to 1000 emplo...|    Company - Public|Electrical & Elec...|       Manufacturing|       MA|         20|     1|    0|      0|\n",
      "|      Data Scientist|       137-171 |   2.9|     New York, NY| 51 to 200 employees|   Company - Private|Advertising & Mar...|   Business Services|       NY|         22|     1|    0|      0|\n",
      "|      Data Scientist|       137-171 |   4.2|Santa Barbara, CA| 51 to 200 employees|   Company - Private|Computer Hardware...|Information Techn...|       CA|         10|     1|    1|      0|\n",
      "|Data Scientist / ...|       137-171 |   3.9|    Cambridge, MA|    10000+ employees|    Company - Public|Biotech & Pharmac...|Biotech & Pharmac...|       MA|         24|     1|    0|      0|\n",
      "|      Data Scientist|       137-171 |   3.5|      Bedford, MA|1001 to 5000 empl...|    Company - Public|Consumer Electron...|              Retail|       MA|         30|     1|    0|      0|\n",
      "|Staff Data Scient...|       137-171 |   4.4|    San Diego, CA|5001 to 10000 emp...|    Company - Public|Computer Hardware...|Information Techn...|       CA|         37|     0|    0|      0|\n",
      "|      Data Scientist|       137-171 |   3.6|      Chicago, IL| 51 to 200 employees|   Company - Private|Enterprise Softwa...|Information Techn...|       IL|          6|     1|    0|      0|\n",
      "|      Data Scientist|       137-171 |   4.5|      Herndon, VA|501 to 1000 emplo...|   Company - Private|Enterprise Softwa...|Information Techn...|       VA|          8|     1|    0|      0|\n",
      "|      Data Scientist|       137-171 |   4.7|  Saint Louis, MO| 51 to 200 employees|   Company - Private|         IT Services|Information Techn...|       MO|          4|     1|    1|      0|\n",
      "|Data Scientist - ...|       137-171 |   3.7|     Richland, WA|1001 to 5000 empl...|          Government|              Energy|Oil, Gas, Energy ...|       WA|         55|     0|    0|      0|\n",
      "|        Data Modeler|       137-171 |   3.1|   Northbrook, IL|201 to 500 employees|   Company - Private|Chemical Manufact...|       Manufacturing|       IL|         47|     1|    0|      1|\n",
      "|      Data Scientist|       137-171 |   3.4|   Washington, DC|1001 to 5000 empl...|   Company - Private|          Consulting|   Business Services|       DC|         34|     1|    0|      0|\n",
      "|Experienced Data ...|       137-171 |   4.4|   Washington, DC|   1 to 50 employees|   Company - Private|    Federal Agencies|          Government|       DC|         23|     1|    1|      1|\n",
      "|      Data Scientist|       137-171 |   3.5|      Memphis, TN|1001 to 5000 empl...|   Company - Private|Chemical Manufact...|       Manufacturing|       TN|         75|     1|    0|      0|\n",
      "|     Data Analyst II|       137-171 |   4.2|        Plano, TX|5001 to 10000 emp...|    Company - Public|Enterprise Softwa...|Information Techn...|       TX|         32|     0|    0|      0|\n",
      "|Medical Lab Scien...|       137-171 |   3.5|   West Grove, PA|5001 to 10000 emp...|Nonprofit Organiz...|Health Care Servi...|         Health Care|       PA|          3|     0|    0|      0|\n",
      "|      Data Scientist|       137-171 |   3.2|     New York, NY| 51 to 200 employees|   Company - Private|Computer Hardware...|Information Techn...|       NY|          5|     0|    0|      0|\n",
      "+--------------------+---------------+------+-----------------+--------------------+--------------------+--------------------+--------------------+---------+-----------+------+-----+-------+\n",
      "only showing top 20 rows\n",
      "\n"
     ]
    }
   ],
   "source": [
    "df.show()"
   ]
  },
  {
   "cell_type": "code",
   "execution_count": 9,
   "id": "113c8b24-8008-4b6e-b1a8-acadef0908b4",
   "metadata": {},
   "outputs": [
    {
     "name": "stdout",
     "output_type": "stream",
     "text": [
      "root\n",
      " |-- Job Title: string (nullable = true)\n",
      " |-- Salary Estimate: string (nullable = true)\n",
      " |-- Rating: double (nullable = true)\n",
      " |-- Location: string (nullable = true)\n",
      " |-- Size: string (nullable = true)\n",
      " |-- Type of ownership: string (nullable = true)\n",
      " |-- Industry: string (nullable = true)\n",
      " |-- Sector: string (nullable = true)\n",
      " |-- job_state: string (nullable = true)\n",
      " |-- company_age: integer (nullable = true)\n",
      " |-- python: integer (nullable = true)\n",
      " |-- spark: integer (nullable = true)\n",
      " |-- tableau: integer (nullable = true)\n",
      "\n"
     ]
    }
   ],
   "source": [
    "df.printSchema()"
   ]
  },
  {
   "cell_type": "code",
   "execution_count": 10,
   "id": "8ae4e46f-a899-4c4e-a621-46cb4e62fe49",
   "metadata": {},
   "outputs": [],
   "source": [
    "#Split the data\n",
    "df = df.withColumn(\"min_salary\", split(col(\"Salary Estimate\"), \"-\").getItem(0).cast(\"integer\")).withColumn(\"max_salary\", split(col(\"Salary Estimate\"), \"-\").getItem(1).cast(\"integer\"))"
   ]
  },
  {
   "cell_type": "code",
   "execution_count": 11,
   "id": "d738dcbe-4aeb-4664-ba1f-952da73d8f53",
   "metadata": {},
   "outputs": [
    {
     "name": "stdout",
     "output_type": "stream",
     "text": [
      "root\n",
      " |-- Job Title: string (nullable = true)\n",
      " |-- Salary Estimate: string (nullable = true)\n",
      " |-- Rating: double (nullable = true)\n",
      " |-- Location: string (nullable = true)\n",
      " |-- Size: string (nullable = true)\n",
      " |-- Type of ownership: string (nullable = true)\n",
      " |-- Industry: string (nullable = true)\n",
      " |-- Sector: string (nullable = true)\n",
      " |-- job_state: string (nullable = true)\n",
      " |-- company_age: integer (nullable = true)\n",
      " |-- python: integer (nullable = true)\n",
      " |-- spark: integer (nullable = true)\n",
      " |-- tableau: integer (nullable = true)\n",
      " |-- min_salary: integer (nullable = true)\n",
      " |-- max_salary: integer (nullable = true)\n",
      "\n"
     ]
    }
   ],
   "source": [
    "df.printSchema()"
   ]
  },
  {
   "cell_type": "code",
   "execution_count": 12,
   "id": "ac8b7cc4-e3d1-45b0-a4fb-e7b5afcfce68",
   "metadata": {},
   "outputs": [
    {
     "name": "stdout",
     "output_type": "stream",
     "text": [
      "+--------------------+---------------+------+-----------------+--------------------+--------------------+--------------------+--------------------+---------+-----------+------+-----+-------+----------+----------+\n",
      "|           Job Title|Salary Estimate|Rating|         Location|                Size|   Type of ownership|            Industry|              Sector|job_state|company_age|python|spark|tableau|min_salary|max_salary|\n",
      "+--------------------+---------------+------+-----------------+--------------------+--------------------+--------------------+--------------------+---------+-----------+------+-----+-------+----------+----------+\n",
      "|   Sr Data Scientist|       137-171 |   3.1|     New York, NY|1001 to 5000 empl...|Nonprofit Organiz...|  Insurance Carriers|           Insurance|       NY|         27|     0|    0|      0|       137|       171|\n",
      "|      Data Scientist|       137-171 |   4.2|    Chantilly, VA|5001 to 10000 emp...|    Company - Public|Research & Develo...|   Business Services|       VA|         52|     0|    0|      0|       137|       171|\n",
      "|      Data Scientist|       137-171 |   3.8|       Boston, MA|1001 to 5000 empl...|Private Practice ...|          Consulting|   Business Services|       MA|         39|     1|    0|      0|       137|       171|\n",
      "|      Data Scientist|       137-171 |   3.5|       Newton, MA|501 to 1000 emplo...|    Company - Public|Electrical & Elec...|       Manufacturing|       MA|         20|     1|    0|      0|       137|       171|\n",
      "|      Data Scientist|       137-171 |   2.9|     New York, NY| 51 to 200 employees|   Company - Private|Advertising & Mar...|   Business Services|       NY|         22|     1|    0|      0|       137|       171|\n",
      "|      Data Scientist|       137-171 |   4.2|Santa Barbara, CA| 51 to 200 employees|   Company - Private|Computer Hardware...|Information Techn...|       CA|         10|     1|    1|      0|       137|       171|\n",
      "|Data Scientist / ...|       137-171 |   3.9|    Cambridge, MA|    10000+ employees|    Company - Public|Biotech & Pharmac...|Biotech & Pharmac...|       MA|         24|     1|    0|      0|       137|       171|\n",
      "|      Data Scientist|       137-171 |   3.5|      Bedford, MA|1001 to 5000 empl...|    Company - Public|Consumer Electron...|              Retail|       MA|         30|     1|    0|      0|       137|       171|\n",
      "|Staff Data Scient...|       137-171 |   4.4|    San Diego, CA|5001 to 10000 emp...|    Company - Public|Computer Hardware...|Information Techn...|       CA|         37|     0|    0|      0|       137|       171|\n",
      "|      Data Scientist|       137-171 |   3.6|      Chicago, IL| 51 to 200 employees|   Company - Private|Enterprise Softwa...|Information Techn...|       IL|          6|     1|    0|      0|       137|       171|\n",
      "|      Data Scientist|       137-171 |   4.5|      Herndon, VA|501 to 1000 emplo...|   Company - Private|Enterprise Softwa...|Information Techn...|       VA|          8|     1|    0|      0|       137|       171|\n",
      "|      Data Scientist|       137-171 |   4.7|  Saint Louis, MO| 51 to 200 employees|   Company - Private|         IT Services|Information Techn...|       MO|          4|     1|    1|      0|       137|       171|\n",
      "|Data Scientist - ...|       137-171 |   3.7|     Richland, WA|1001 to 5000 empl...|          Government|              Energy|Oil, Gas, Energy ...|       WA|         55|     0|    0|      0|       137|       171|\n",
      "|        Data Modeler|       137-171 |   3.1|   Northbrook, IL|201 to 500 employees|   Company - Private|Chemical Manufact...|       Manufacturing|       IL|         47|     1|    0|      1|       137|       171|\n",
      "|      Data Scientist|       137-171 |   3.4|   Washington, DC|1001 to 5000 empl...|   Company - Private|          Consulting|   Business Services|       DC|         34|     1|    0|      0|       137|       171|\n",
      "|Experienced Data ...|       137-171 |   4.4|   Washington, DC|   1 to 50 employees|   Company - Private|    Federal Agencies|          Government|       DC|         23|     1|    1|      1|       137|       171|\n",
      "|      Data Scientist|       137-171 |   3.5|      Memphis, TN|1001 to 5000 empl...|   Company - Private|Chemical Manufact...|       Manufacturing|       TN|         75|     1|    0|      0|       137|       171|\n",
      "|     Data Analyst II|       137-171 |   4.2|        Plano, TX|5001 to 10000 emp...|    Company - Public|Enterprise Softwa...|Information Techn...|       TX|         32|     0|    0|      0|       137|       171|\n",
      "|Medical Lab Scien...|       137-171 |   3.5|   West Grove, PA|5001 to 10000 emp...|Nonprofit Organiz...|Health Care Servi...|         Health Care|       PA|          3|     0|    0|      0|       137|       171|\n",
      "|      Data Scientist|       137-171 |   3.2|     New York, NY| 51 to 200 employees|   Company - Private|Computer Hardware...|Information Techn...|       NY|          5|     0|    0|      0|       137|       171|\n",
      "+--------------------+---------------+------+-----------------+--------------------+--------------------+--------------------+--------------------+---------+-----------+------+-----+-------+----------+----------+\n",
      "only showing top 20 rows\n",
      "\n"
     ]
    }
   ],
   "source": [
    "df.show()"
   ]
  },
  {
   "cell_type": "code",
   "execution_count": 13,
   "id": "e186d241-937d-4743-baec-75422cecdb37",
   "metadata": {},
   "outputs": [],
   "source": [
    "df = df.withColumn(\"average_salary\", (col(\"min_salary\") + col(\"max_salary\") ) / 2)"
   ]
  },
  {
   "cell_type": "code",
   "execution_count": 15,
   "id": "833c86a1-70e7-40eb-9133-922208bee931",
   "metadata": {},
   "outputs": [
    {
     "name": "stdout",
     "output_type": "stream",
     "text": [
      "root\n",
      " |-- Job Title: string (nullable = true)\n",
      " |-- Salary Estimate: string (nullable = true)\n",
      " |-- Rating: double (nullable = true)\n",
      " |-- Location: string (nullable = true)\n",
      " |-- Size: string (nullable = true)\n",
      " |-- Type of ownership: string (nullable = true)\n",
      " |-- Industry: string (nullable = true)\n",
      " |-- Sector: string (nullable = true)\n",
      " |-- job_state: string (nullable = true)\n",
      " |-- company_age: integer (nullable = true)\n",
      " |-- python: integer (nullable = true)\n",
      " |-- spark: integer (nullable = true)\n",
      " |-- tableau: integer (nullable = true)\n",
      " |-- min_salary: integer (nullable = true)\n",
      " |-- max_salary: integer (nullable = true)\n",
      " |-- average_salary: double (nullable = true)\n",
      "\n",
      "+--------------------+---------------+------+-----------------+--------------------+--------------------+--------------------+--------------------+---------+-----------+------+-----+-------+----------+----------+--------------+\n",
      "|           Job Title|Salary Estimate|Rating|         Location|                Size|   Type of ownership|            Industry|              Sector|job_state|company_age|python|spark|tableau|min_salary|max_salary|average_salary|\n",
      "+--------------------+---------------+------+-----------------+--------------------+--------------------+--------------------+--------------------+---------+-----------+------+-----+-------+----------+----------+--------------+\n",
      "|   Sr Data Scientist|       137-171 |   3.1|     New York, NY|1001 to 5000 empl...|Nonprofit Organiz...|  Insurance Carriers|           Insurance|       NY|         27|     0|    0|      0|       137|       171|         154.0|\n",
      "|      Data Scientist|       137-171 |   4.2|    Chantilly, VA|5001 to 10000 emp...|    Company - Public|Research & Develo...|   Business Services|       VA|         52|     0|    0|      0|       137|       171|         154.0|\n",
      "|      Data Scientist|       137-171 |   3.8|       Boston, MA|1001 to 5000 empl...|Private Practice ...|          Consulting|   Business Services|       MA|         39|     1|    0|      0|       137|       171|         154.0|\n",
      "|      Data Scientist|       137-171 |   3.5|       Newton, MA|501 to 1000 emplo...|    Company - Public|Electrical & Elec...|       Manufacturing|       MA|         20|     1|    0|      0|       137|       171|         154.0|\n",
      "|      Data Scientist|       137-171 |   2.9|     New York, NY| 51 to 200 employees|   Company - Private|Advertising & Mar...|   Business Services|       NY|         22|     1|    0|      0|       137|       171|         154.0|\n",
      "|      Data Scientist|       137-171 |   4.2|Santa Barbara, CA| 51 to 200 employees|   Company - Private|Computer Hardware...|Information Techn...|       CA|         10|     1|    1|      0|       137|       171|         154.0|\n",
      "|Data Scientist / ...|       137-171 |   3.9|    Cambridge, MA|    10000+ employees|    Company - Public|Biotech & Pharmac...|Biotech & Pharmac...|       MA|         24|     1|    0|      0|       137|       171|         154.0|\n",
      "|      Data Scientist|       137-171 |   3.5|      Bedford, MA|1001 to 5000 empl...|    Company - Public|Consumer Electron...|              Retail|       MA|         30|     1|    0|      0|       137|       171|         154.0|\n",
      "|Staff Data Scient...|       137-171 |   4.4|    San Diego, CA|5001 to 10000 emp...|    Company - Public|Computer Hardware...|Information Techn...|       CA|         37|     0|    0|      0|       137|       171|         154.0|\n",
      "|      Data Scientist|       137-171 |   3.6|      Chicago, IL| 51 to 200 employees|   Company - Private|Enterprise Softwa...|Information Techn...|       IL|          6|     1|    0|      0|       137|       171|         154.0|\n",
      "|      Data Scientist|       137-171 |   4.5|      Herndon, VA|501 to 1000 emplo...|   Company - Private|Enterprise Softwa...|Information Techn...|       VA|          8|     1|    0|      0|       137|       171|         154.0|\n",
      "|      Data Scientist|       137-171 |   4.7|  Saint Louis, MO| 51 to 200 employees|   Company - Private|         IT Services|Information Techn...|       MO|          4|     1|    1|      0|       137|       171|         154.0|\n",
      "|Data Scientist - ...|       137-171 |   3.7|     Richland, WA|1001 to 5000 empl...|          Government|              Energy|Oil, Gas, Energy ...|       WA|         55|     0|    0|      0|       137|       171|         154.0|\n",
      "|        Data Modeler|       137-171 |   3.1|   Northbrook, IL|201 to 500 employees|   Company - Private|Chemical Manufact...|       Manufacturing|       IL|         47|     1|    0|      1|       137|       171|         154.0|\n",
      "|      Data Scientist|       137-171 |   3.4|   Washington, DC|1001 to 5000 empl...|   Company - Private|          Consulting|   Business Services|       DC|         34|     1|    0|      0|       137|       171|         154.0|\n",
      "|Experienced Data ...|       137-171 |   4.4|   Washington, DC|   1 to 50 employees|   Company - Private|    Federal Agencies|          Government|       DC|         23|     1|    1|      1|       137|       171|         154.0|\n",
      "|      Data Scientist|       137-171 |   3.5|      Memphis, TN|1001 to 5000 empl...|   Company - Private|Chemical Manufact...|       Manufacturing|       TN|         75|     1|    0|      0|       137|       171|         154.0|\n",
      "|     Data Analyst II|       137-171 |   4.2|        Plano, TX|5001 to 10000 emp...|    Company - Public|Enterprise Softwa...|Information Techn...|       TX|         32|     0|    0|      0|       137|       171|         154.0|\n",
      "|Medical Lab Scien...|       137-171 |   3.5|   West Grove, PA|5001 to 10000 emp...|Nonprofit Organiz...|Health Care Servi...|         Health Care|       PA|          3|     0|    0|      0|       137|       171|         154.0|\n",
      "|      Data Scientist|       137-171 |   3.2|     New York, NY| 51 to 200 employees|   Company - Private|Computer Hardware...|Information Techn...|       NY|          5|     0|    0|      0|       137|       171|         154.0|\n",
      "+--------------------+---------------+------+-----------------+--------------------+--------------------+--------------------+--------------------+---------+-----------+------+-----+-------+----------+----------+--------------+\n",
      "only showing top 20 rows\n",
      "\n"
     ]
    }
   ],
   "source": [
    "df.printSchema()\n",
    "df.show()"
   ]
  },
  {
   "cell_type": "code",
   "execution_count": 17,
   "id": "456127ef-697c-4a49-93ad-20014c056a69",
   "metadata": {},
   "outputs": [],
   "source": [
    "df = df.withColumn(\"Rating\", when((col(\"Rating\") == -1) | (col(\"Rating\") == 0), 1).otherwise(col(\"Rating\")))"
   ]
  },
  {
   "cell_type": "code",
   "execution_count": 18,
   "id": "cae31bc4-1270-469f-baa0-88193522e515",
   "metadata": {},
   "outputs": [
    {
     "name": "stdout",
     "output_type": "stream",
     "text": [
      "+--------------------+---------------+------+-----------------+--------------------+--------------------+--------------------+--------------------+---------+-----------+------+-----+-------+----------+----------+--------------+\n",
      "|           Job Title|Salary Estimate|Rating|         Location|                Size|   Type of ownership|            Industry|              Sector|job_state|company_age|python|spark|tableau|min_salary|max_salary|average_salary|\n",
      "+--------------------+---------------+------+-----------------+--------------------+--------------------+--------------------+--------------------+---------+-----------+------+-----+-------+----------+----------+--------------+\n",
      "|   Sr Data Scientist|       137-171 |   3.1|     New York, NY|1001 to 5000 empl...|Nonprofit Organiz...|  Insurance Carriers|           Insurance|       NY|         27|     0|    0|      0|       137|       171|         154.0|\n",
      "|      Data Scientist|       137-171 |   4.2|    Chantilly, VA|5001 to 10000 emp...|    Company - Public|Research & Develo...|   Business Services|       VA|         52|     0|    0|      0|       137|       171|         154.0|\n",
      "|      Data Scientist|       137-171 |   3.8|       Boston, MA|1001 to 5000 empl...|Private Practice ...|          Consulting|   Business Services|       MA|         39|     1|    0|      0|       137|       171|         154.0|\n",
      "|      Data Scientist|       137-171 |   3.5|       Newton, MA|501 to 1000 emplo...|    Company - Public|Electrical & Elec...|       Manufacturing|       MA|         20|     1|    0|      0|       137|       171|         154.0|\n",
      "|      Data Scientist|       137-171 |   2.9|     New York, NY| 51 to 200 employees|   Company - Private|Advertising & Mar...|   Business Services|       NY|         22|     1|    0|      0|       137|       171|         154.0|\n",
      "|      Data Scientist|       137-171 |   4.2|Santa Barbara, CA| 51 to 200 employees|   Company - Private|Computer Hardware...|Information Techn...|       CA|         10|     1|    1|      0|       137|       171|         154.0|\n",
      "|Data Scientist / ...|       137-171 |   3.9|    Cambridge, MA|    10000+ employees|    Company - Public|Biotech & Pharmac...|Biotech & Pharmac...|       MA|         24|     1|    0|      0|       137|       171|         154.0|\n",
      "|      Data Scientist|       137-171 |   3.5|      Bedford, MA|1001 to 5000 empl...|    Company - Public|Consumer Electron...|              Retail|       MA|         30|     1|    0|      0|       137|       171|         154.0|\n",
      "|Staff Data Scient...|       137-171 |   4.4|    San Diego, CA|5001 to 10000 emp...|    Company - Public|Computer Hardware...|Information Techn...|       CA|         37|     0|    0|      0|       137|       171|         154.0|\n",
      "|      Data Scientist|       137-171 |   3.6|      Chicago, IL| 51 to 200 employees|   Company - Private|Enterprise Softwa...|Information Techn...|       IL|          6|     1|    0|      0|       137|       171|         154.0|\n",
      "|      Data Scientist|       137-171 |   4.5|      Herndon, VA|501 to 1000 emplo...|   Company - Private|Enterprise Softwa...|Information Techn...|       VA|          8|     1|    0|      0|       137|       171|         154.0|\n",
      "|      Data Scientist|       137-171 |   4.7|  Saint Louis, MO| 51 to 200 employees|   Company - Private|         IT Services|Information Techn...|       MO|          4|     1|    1|      0|       137|       171|         154.0|\n",
      "|Data Scientist - ...|       137-171 |   3.7|     Richland, WA|1001 to 5000 empl...|          Government|              Energy|Oil, Gas, Energy ...|       WA|         55|     0|    0|      0|       137|       171|         154.0|\n",
      "|        Data Modeler|       137-171 |   3.1|   Northbrook, IL|201 to 500 employees|   Company - Private|Chemical Manufact...|       Manufacturing|       IL|         47|     1|    0|      1|       137|       171|         154.0|\n",
      "|      Data Scientist|       137-171 |   3.4|   Washington, DC|1001 to 5000 empl...|   Company - Private|          Consulting|   Business Services|       DC|         34|     1|    0|      0|       137|       171|         154.0|\n",
      "|Experienced Data ...|       137-171 |   4.4|   Washington, DC|   1 to 50 employees|   Company - Private|    Federal Agencies|          Government|       DC|         23|     1|    1|      1|       137|       171|         154.0|\n",
      "|      Data Scientist|       137-171 |   3.5|      Memphis, TN|1001 to 5000 empl...|   Company - Private|Chemical Manufact...|       Manufacturing|       TN|         75|     1|    0|      0|       137|       171|         154.0|\n",
      "|     Data Analyst II|       137-171 |   4.2|        Plano, TX|5001 to 10000 emp...|    Company - Public|Enterprise Softwa...|Information Techn...|       TX|         32|     0|    0|      0|       137|       171|         154.0|\n",
      "|Medical Lab Scien...|       137-171 |   3.5|   West Grove, PA|5001 to 10000 emp...|Nonprofit Organiz...|Health Care Servi...|         Health Care|       PA|          3|     0|    0|      0|       137|       171|         154.0|\n",
      "|      Data Scientist|       137-171 |   3.2|     New York, NY| 51 to 200 employees|   Company - Private|Computer Hardware...|Information Techn...|       NY|          5|     0|    0|      0|       137|       171|         154.0|\n",
      "+--------------------+---------------+------+-----------------+--------------------+--------------------+--------------------+--------------------+---------+-----------+------+-----+-------+----------+----------+--------------+\n",
      "only showing top 20 rows\n",
      "\n"
     ]
    }
   ],
   "source": [
    "df.show()"
   ]
  },
  {
   "cell_type": "code",
   "execution_count": 20,
   "id": "1c982575-b8f5-43fd-97ab-f49cfaab0d27",
   "metadata": {},
   "outputs": [],
   "source": [
    "null_cnt = {c: df.filter(col(c).isNull()).count() for c in df.columns}"
   ]
  },
  {
   "cell_type": "code",
   "execution_count": 21,
   "id": "e93021a3-9e65-4a42-b589-b08f3c5dbb1d",
   "metadata": {},
   "outputs": [
    {
     "data": {
      "text/plain": [
       "{'Job Title': 0,\n",
       " 'Salary Estimate': 0,\n",
       " 'Rating': 0,\n",
       " 'Location': 0,\n",
       " 'Size': 27,\n",
       " 'Type of ownership': 27,\n",
       " 'Industry': 71,\n",
       " 'Sector': 71,\n",
       " 'job_state': 0,\n",
       " 'company_age': 0,\n",
       " 'python': 0,\n",
       " 'spark': 0,\n",
       " 'tableau': 0,\n",
       " 'min_salary': 0,\n",
       " 'max_salary': 0,\n",
       " 'average_salary': 0}"
      ]
     },
     "execution_count": 21,
     "metadata": {},
     "output_type": "execute_result"
    }
   ],
   "source": [
    "null_cnt"
   ]
  },
  {
   "cell_type": "code",
   "execution_count": 24,
   "id": "3a9450fa-beed-4e6a-9ab2-6b037a98b083",
   "metadata": {},
   "outputs": [],
   "source": [
    "df = df.fillna(-1)"
   ]
  },
  {
   "cell_type": "code",
   "execution_count": 25,
   "id": "85497230-c222-40bf-9e52-ebb452e6db9c",
   "metadata": {},
   "outputs": [
    {
     "data": {
      "text/plain": [
       "{'Job Title': 0,\n",
       " 'Salary Estimate': 0,\n",
       " 'Rating': 0,\n",
       " 'Location': 0,\n",
       " 'Size': 27,\n",
       " 'Type of ownership': 27,\n",
       " 'Industry': 71,\n",
       " 'Sector': 71,\n",
       " 'job_state': 0,\n",
       " 'company_age': 0,\n",
       " 'python': 0,\n",
       " 'spark': 0,\n",
       " 'tableau': 0,\n",
       " 'min_salary': 0,\n",
       " 'max_salary': 0,\n",
       " 'average_salary': 0}"
      ]
     },
     "execution_count": 25,
     "metadata": {},
     "output_type": "execute_result"
    }
   ],
   "source": [
    "null_cnt = {c: df.filter(col(c).isNull()).count() for c in df.columns}\n",
    "null_cnt"
   ]
  },
  {
   "cell_type": "code",
   "execution_count": 26,
   "id": "0ab283e2-0a5c-41aa-88cf-191c657d3756",
   "metadata": {},
   "outputs": [],
   "source": [
    "avg_sal = df.groupBy(\"Job Title\").agg(mean(\"average_salary\").alias(\"avg_salary\"))"
   ]
  },
  {
   "cell_type": "code",
   "execution_count": 28,
   "id": "5297f828-1932-439a-8c70-70fe62eab13c",
   "metadata": {},
   "outputs": [
    {
     "name": "stdout",
     "output_type": "stream",
     "text": [
      "+--------------------+-----------------+\n",
      "|           Job Title|       avg_salary|\n",
      "+--------------------+-----------------+\n",
      "|Senior Data Scien...|99.33333333333333|\n",
      "|Clinical Data Ana...|            164.5|\n",
      "|Senior Business I...|             90.0|\n",
      "|Data Analyst/Engi...|            115.5|\n",
      "|Staff BI and Data...|            107.0|\n",
      "|Intelligence Data...|            90.75|\n",
      "|Report Writer-Dat...|             92.5|\n",
      "|Hydrogen/Tritium ...|            148.0|\n",
      "|Business Intellig...|           109.25|\n",
      "|        Data Modeler|            154.0|\n",
      "|Scientist / Group...|            197.5|\n",
      "|Senior Research S...|            105.0|\n",
      "|Software Engineer...|            164.5|\n",
      "|   Sr Data Scientist|           126.75|\n",
      "|COMPUTER SCIENTIS...|            271.5|\n",
      "|Data Scientist/Ma...|            125.5|\n",
      "|Data Scientist - ...|            120.5|\n",
      "|  Decision Scientist|             94.5|\n",
      "|Data Scientist - ...|            97.75|\n",
      "|Data Scientist / ...|            128.5|\n",
      "+--------------------+-----------------+\n",
      "only showing top 20 rows\n",
      "\n"
     ]
    }
   ],
   "source": [
    "avg_sal.show()"
   ]
  },
  {
   "cell_type": "code",
   "execution_count": 29,
   "id": "313c0bd8-30bf-4161-a3c2-f52ac3e4d630",
   "metadata": {},
   "outputs": [
    {
     "name": "stdout",
     "output_type": "stream",
     "text": [
      "+--------------------+---------------+------+-----------------+--------------------+--------------------+--------------------+--------------------+---------+-----------+------+-----+-------+----------+----------+--------------+\n",
      "|           Job Title|Salary Estimate|Rating|         Location|                Size|   Type of ownership|            Industry|              Sector|job_state|company_age|python|spark|tableau|min_salary|max_salary|average_salary|\n",
      "+--------------------+---------------+------+-----------------+--------------------+--------------------+--------------------+--------------------+---------+-----------+------+-----+-------+----------+----------+--------------+\n",
      "|   Sr Data Scientist|       137-171 |   3.1|     New York, NY|1001 to 5000 empl...|Nonprofit Organiz...|  Insurance Carriers|           Insurance|       NY|         27|     0|    0|      0|       137|       171|         154.0|\n",
      "|      Data Scientist|       137-171 |   4.2|    Chantilly, VA|5001 to 10000 emp...|    Company - Public|Research & Develo...|   Business Services|       VA|         52|     0|    0|      0|       137|       171|         154.0|\n",
      "|      Data Scientist|       137-171 |   3.8|       Boston, MA|1001 to 5000 empl...|Private Practice ...|          Consulting|   Business Services|       MA|         39|     1|    0|      0|       137|       171|         154.0|\n",
      "|      Data Scientist|       137-171 |   3.5|       Newton, MA|501 to 1000 emplo...|    Company - Public|Electrical & Elec...|       Manufacturing|       MA|         20|     1|    0|      0|       137|       171|         154.0|\n",
      "|      Data Scientist|       137-171 |   2.9|     New York, NY| 51 to 200 employees|   Company - Private|Advertising & Mar...|   Business Services|       NY|         22|     1|    0|      0|       137|       171|         154.0|\n",
      "|      Data Scientist|       137-171 |   4.2|Santa Barbara, CA| 51 to 200 employees|   Company - Private|Computer Hardware...|Information Techn...|       CA|         10|     1|    1|      0|       137|       171|         154.0|\n",
      "|Data Scientist / ...|       137-171 |   3.9|    Cambridge, MA|    10000+ employees|    Company - Public|Biotech & Pharmac...|Biotech & Pharmac...|       MA|         24|     1|    0|      0|       137|       171|         154.0|\n",
      "|      Data Scientist|       137-171 |   3.5|      Bedford, MA|1001 to 5000 empl...|    Company - Public|Consumer Electron...|              Retail|       MA|         30|     1|    0|      0|       137|       171|         154.0|\n",
      "|Staff Data Scient...|       137-171 |   4.4|    San Diego, CA|5001 to 10000 emp...|    Company - Public|Computer Hardware...|Information Techn...|       CA|         37|     0|    0|      0|       137|       171|         154.0|\n",
      "|      Data Scientist|       137-171 |   3.6|      Chicago, IL| 51 to 200 employees|   Company - Private|Enterprise Softwa...|Information Techn...|       IL|          6|     1|    0|      0|       137|       171|         154.0|\n",
      "|      Data Scientist|       137-171 |   4.5|      Herndon, VA|501 to 1000 emplo...|   Company - Private|Enterprise Softwa...|Information Techn...|       VA|          8|     1|    0|      0|       137|       171|         154.0|\n",
      "|      Data Scientist|       137-171 |   4.7|  Saint Louis, MO| 51 to 200 employees|   Company - Private|         IT Services|Information Techn...|       MO|          4|     1|    1|      0|       137|       171|         154.0|\n",
      "|Data Scientist - ...|       137-171 |   3.7|     Richland, WA|1001 to 5000 empl...|          Government|              Energy|Oil, Gas, Energy ...|       WA|         55|     0|    0|      0|       137|       171|         154.0|\n",
      "|        Data Modeler|       137-171 |   3.1|   Northbrook, IL|201 to 500 employees|   Company - Private|Chemical Manufact...|       Manufacturing|       IL|         47|     1|    0|      1|       137|       171|         154.0|\n",
      "|      Data Scientist|       137-171 |   3.4|   Washington, DC|1001 to 5000 empl...|   Company - Private|          Consulting|   Business Services|       DC|         34|     1|    0|      0|       137|       171|         154.0|\n",
      "|Experienced Data ...|       137-171 |   4.4|   Washington, DC|   1 to 50 employees|   Company - Private|    Federal Agencies|          Government|       DC|         23|     1|    1|      1|       137|       171|         154.0|\n",
      "|      Data Scientist|       137-171 |   3.5|      Memphis, TN|1001 to 5000 empl...|   Company - Private|Chemical Manufact...|       Manufacturing|       TN|         75|     1|    0|      0|       137|       171|         154.0|\n",
      "|     Data Analyst II|       137-171 |   4.2|        Plano, TX|5001 to 10000 emp...|    Company - Public|Enterprise Softwa...|Information Techn...|       TX|         32|     0|    0|      0|       137|       171|         154.0|\n",
      "|Medical Lab Scien...|       137-171 |   3.5|   West Grove, PA|5001 to 10000 emp...|Nonprofit Organiz...|Health Care Servi...|         Health Care|       PA|          3|     0|    0|      0|       137|       171|         154.0|\n",
      "|      Data Scientist|       137-171 |   3.2|     New York, NY| 51 to 200 employees|   Company - Private|Computer Hardware...|Information Techn...|       NY|          5|     0|    0|      0|       137|       171|         154.0|\n",
      "+--------------------+---------------+------+-----------------+--------------------+--------------------+--------------------+--------------------+---------+-----------+------+-----+-------+----------+----------+--------------+\n",
      "only showing top 20 rows\n",
      "\n"
     ]
    }
   ],
   "source": [
    "df.show()"
   ]
  },
  {
   "cell_type": "code",
   "execution_count": 30,
   "id": "32eebe12-40fc-49a8-8730-6726fab4724c",
   "metadata": {},
   "outputs": [],
   "source": [
    "output_path = \"Datasets/output/Jobs_data\""
   ]
  },
  {
   "cell_type": "code",
   "execution_count": 31,
   "id": "2fb04c7d-7d89-422c-a843-21abcf0a80ef",
   "metadata": {},
   "outputs": [],
   "source": [
    "df.write.csv(output_path, header = True)"
   ]
  },
  {
   "cell_type": "code",
   "execution_count": null,
   "id": "79108d6e-1f1e-4bef-a00f-5c0190146e4f",
   "metadata": {},
   "outputs": [],
   "source": [
    "    "
   ]
  }
 ],
 "metadata": {
  "kernelspec": {
   "display_name": "Python 3 (ipykernel)",
   "language": "python",
   "name": "python3"
  },
  "language_info": {
   "codemirror_mode": {
    "name": "ipython",
    "version": 3
   },
   "file_extension": ".py",
   "mimetype": "text/x-python",
   "name": "python",
   "nbconvert_exporter": "python",
   "pygments_lexer": "ipython3",
   "version": "3.12.6"
  }
 },
 "nbformat": 4,
 "nbformat_minor": 5
}
